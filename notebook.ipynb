{
 "cells": [
  {
   "cell_type": "code",
   "execution_count": 8,
   "id": "4b1e02c3",
   "metadata": {},
   "outputs": [],
   "source": [
    "from langchain_community.document_loaders import PyPDFLoader\n",
    "from langchain_community.embeddings import OllamaEmbeddings\n",
    "from langchain_community.vectorstores import FAISS\n",
    "from langchain_community.llms import Ollama\n",
    "from langchain.chains import RetrievalQA\n",
    "import os, re\n",
    "from langchain_community.vectorstores import Chroma\n",
    "from langchain.schema import Document\n",
    "from langchain_experimental.text_splitter import SemanticChunker\n"
   ]
  },
  {
   "cell_type": "code",
   "execution_count": 87,
   "id": "44f2b06b",
   "metadata": {},
   "outputs": [
    {
     "name": "stdout",
     "output_type": "stream",
     "text": [
      "1\n",
      "2\n",
      "3\n",
      "4\n",
      "5\n",
      "6\n",
      "7\n",
      "8\n",
      "9\n",
      "10\n",
      "11\n",
      "12\n",
      "13\n",
      "14\n",
      "15\n",
      "16\n",
      "17\n",
      "18\n",
      "19\n",
      "20\n",
      "21\n",
      "22\n",
      "23\n",
      "24\n",
      "25\n",
      "26\n",
      "27\n",
      "28\n",
      "29\n",
      "30\n",
      "31\n",
      "32\n",
      "33\n",
      "34\n",
      "35\n",
      "36\n",
      "37\n",
      "38\n",
      "39\n",
      "40\n",
      "41\n",
      "42\n",
      "43\n",
      "44\n",
      "45\n",
      "46\n",
      "47\n",
      "48\n",
      "49\n",
      "50\n",
      "51\n",
      "52\n",
      "53\n",
      "54\n",
      "55\n",
      "56\n",
      "57\n"
     ]
    }
   ],
   "source": [
    "# 1. Load multiple PDFs\n",
    "pdf_dir = \"./data\"  # e.g. ./pdfs\n",
    "all_docs = []\n",
    "c = 1\n",
    "for file in os.listdir(pdf_dir):\n",
    "    if file.endswith(\".pdf\"):\n",
    "        loader = PyPDFLoader(os.path.join(pdf_dir, file))\n",
    "        all_docs.extend(loader.load())\n",
    "        print(c)\n",
    "        c+=1\n",
    "\n"
   ]
  },
  {
   "cell_type": "code",
   "execution_count": 88,
   "id": "a31ef736",
   "metadata": {},
   "outputs": [],
   "source": [
    "# Step 2: Clean text function\n",
    "def clean_text(text):\n",
    "    text = re.sub(r'\\s+', ' ', text)               # Remove extra spaces/newlines\n",
    "    text = re.sub(r'[^\\x00-\\x7F]+', '', text)      # Remove non-ASCII characters\n",
    "    return text.strip()"
   ]
  },
  {
   "cell_type": "code",
   "execution_count": 89,
   "id": "02a257cd",
   "metadata": {},
   "outputs": [],
   "source": [
    "# Step 3: Remove empty pages and clean content\n",
    "all_docs = [\n",
    "    Document(page_content=clean_text(doc.page_content), metadata=doc.metadata)\n",
    "    for doc in all_docs if doc.page_content.strip()\n",
    "]\n"
   ]
  },
  {
   "cell_type": "code",
   "execution_count": 4,
   "id": "7202d473",
   "metadata": {},
   "outputs": [],
   "source": [
    "\n",
    "from langchain.embeddings import HuggingFaceEmbeddings\n",
    "\n",
    "embeddings = HuggingFaceEmbeddings(model_name=\"sentence-transformers/all-MiniLM-L6-v2\")\n"
   ]
  },
  {
   "cell_type": "code",
   "execution_count": null,
   "id": "74648f1f",
   "metadata": {},
   "outputs": [],
   "source": [
    "\n",
    "text_splitter = SemanticChunker(embeddings, breakpoint_threshold_type=\"percentile\")\n",
    "chunks = text_splitter.split_documents(all_docs)"
   ]
  },
  {
   "cell_type": "code",
   "execution_count": 92,
   "id": "4c63a386",
   "metadata": {},
   "outputs": [],
   "source": [
    "# 4. Create  vector store\n",
    "vectorstore = FAISS.from_documents(chunks, embeddings)\n",
    "\n",
    "# Save locally to folder\n",
    "vectorstore.save_local(\"faiss_index\")\n"
   ]
  },
  {
   "cell_type": "code",
   "execution_count": 5,
   "id": "242ef283",
   "metadata": {},
   "outputs": [],
   "source": [
    "from langchain.vectorstores import FAISS\n",
    "\n",
    "vectorstore = FAISS.load_local(\n",
    "    \"faiss_index\",\n",
    "    embeddings,\n",
    "    allow_dangerous_deserialization=True  # ⚠️ Only if file is safe\n",
    ")\n"
   ]
  },
  {
   "cell_type": "code",
   "execution_count": 6,
   "id": "fe793918",
   "metadata": {},
   "outputs": [],
   "source": [
    "system_prompt= \"\"\"You are a highly knowledgeable and ethical Financial Analyst.\n",
    "Your primary responsibility is to provide accurate, factual, and concise answers to user questions based *solely* on the financial books and documents provided in the \"Context\" section.\n",
    "\n",
    "---\n",
    "Context:\n",
    "{retrieved_context}\n",
    "---\n",
    "\n",
    "User's Question: {user_question}\n",
    "\n",
    "Instructions:\n",
    "1.  **Strictly adhere to the provided \"Context\".** Do not use any outside knowledge, personal opinions, or make assumptions.\n",
    "2.  **Focus on factual information.** Extract and synthesize relevant data directly from the context.\n",
    "3.  **Maintain a professional and objective tone.**\n",
    "4.  **Do NOT provide financial advice, recommendations, or predictions.** Your role is to inform based on the text, not to advise on investments or financial decisions.\n",
    "5.  If the \"User's Question\" cannot be answered using *any* information within the provided \"Context\", state clearly: \"I cannot answer this question based on the provided financial documents.\"\n",
    "6.  If the context contains conflicting information, state that the information is conflicting and provide both perspectives if possible, citing the relevant parts of the context.\n",
    "7.  Format your answer clearly, using bullet points or numbered lists where appropriate for readability.\n",
    "\n",
    "Answer:\"\"\""
   ]
  },
  {
   "cell_type": "code",
   "execution_count": 9,
   "id": "ee8041fe",
   "metadata": {},
   "outputs": [
    {
     "name": "stderr",
     "output_type": "stream",
     "text": [
      "C:\\Users\\ANISH\\AppData\\Local\\Temp\\ipykernel_36984\\194230114.py:2: LangChainDeprecationWarning: The class `Ollama` was deprecated in LangChain 0.3.1 and will be removed in 1.0.0. An updated version of the class exists in the :class:`~langchain-ollama package and should be used instead. To use it run `pip install -U :class:`~langchain-ollama` and import as `from :class:`~langchain_ollama import OllamaLLM``.\n",
      "  llm = Ollama(model=\"mistral\")\n"
     ]
    }
   ],
   "source": [
    "# 6. Initialize free local LLM via Ollama\n",
    "llm = Ollama(model=\"mistral\")"
   ]
  },
  {
   "cell_type": "code",
   "execution_count": 10,
   "id": "ad946efb",
   "metadata": {},
   "outputs": [
    {
     "name": "stderr",
     "output_type": "stream",
     "text": [
      "C:\\Users\\ANISH\\AppData\\Local\\Temp\\ipykernel_36984\\95002225.py:15: LangChainDeprecationWarning: The method `Chain.__call__` was deprecated in langchain 0.1.0 and will be removed in 1.0. Use :meth:`~invoke` instead.\n",
      "  result = qa_chain(query)\n"
     ]
    },
    {
     "name": "stdout",
     "output_type": "stream",
     "text": [
      "Answer:  One easy way to potentially make money, as mentioned in the context, is by getting involved with Bitcoin transactions. This includes setting up a Bitcoin wallet, accepting Bitcoin as a form of payment for goods or services, and buying Bitcoins through recognized exchanges like Coinbase, Bitstamp, or Bittylicious. However, it's important to note that investing in any form carries risk and it's always recommended to do thorough research before making any financial decisions.\n"
     ]
    }
   ],
   "source": [
    "retriever = vectorstore.as_retriever(\n",
    "    search_type=\"similarity\",\n",
    "    search_kwargs={\"k\": 5},  # Number of top chunks to return\n",
    "    chain_type=\"stuff\",\n",
    "    chain_type_kwargs={\"prompt\": system_prompt}\n",
    ")\n",
    "\n",
    "# 7. RetrievalQA chain\n",
    "qa_chain = RetrievalQA.from_chain_type(\n",
    "    llm=llm, retriever=retriever, return_source_documents=True\n",
    ")\n",
    "\n",
    "# 8. Ask a question\n",
    "query = \"one easy way to make money\"\n",
    "result = qa_chain(query)\n",
    "\n",
    "print(\"Answer:\", result[\"result\"])\n"
   ]
  },
  {
   "cell_type": "code",
   "execution_count": null,
   "id": "65dc643d",
   "metadata": {},
   "outputs": [],
   "source": [
    "# Answer:  One key to becoming successful, as mentioned in the text, is the ability to communicate effectively with others, which includes writing, speaking, and negotiating skills. The text also emphasizes that constant effort in expanding this skill through courses or educational resources can be beneficial."
   ]
  }
 ],
 "metadata": {
  "kernelspec": {
   "display_name": "Python 3",
   "language": "python",
   "name": "python3"
  },
  "language_info": {
   "codemirror_mode": {
    "name": "ipython",
    "version": 3
   },
   "file_extension": ".py",
   "mimetype": "text/x-python",
   "name": "python",
   "nbconvert_exporter": "python",
   "pygments_lexer": "ipython3",
   "version": "3.10.18"
  }
 },
 "nbformat": 4,
 "nbformat_minor": 5
}
